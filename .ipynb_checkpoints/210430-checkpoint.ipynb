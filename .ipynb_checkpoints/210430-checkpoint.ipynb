{
 "cells": [
  {
   "cell_type": "markdown",
   "metadata": {},
   "source": [
    "# 210424 복습"
   ]
  },
  {
   "cell_type": "markdown",
   "metadata": {},
   "source": [
    "## Exercise.2 - 43: Score Meta Data Dictionary(2)\n",
    "여러 과목이 있을 때, 각 과목들은 합, 평균, 최고점, 최고점의 idx를 가질 수 있습니다. <br>\n",
    "각 과목이 key, value는 dict로 이루어진 meta data로 이루어진 dict를 만들어봅니다."
   ]
  },
  {
   "cell_type": "code",
   "execution_count": 28,
   "metadata": {},
   "outputs": [],
   "source": [
    "import time"
   ]
  },
  {
   "cell_type": "code",
   "execution_count": 57,
   "metadata": {},
   "outputs": [
    {
     "name": "stdout",
     "output_type": "stream",
     "text": [
      "0.0002949237823486328\n"
     ]
    }
   ],
   "source": [
    "scores = [[10, 15, 30],\n",
    "          [20, 45, 20],\n",
    "          [30, 35, 40],\n",
    "          [40, 30, 50]]\n",
    "\n",
    "# problem setting\n",
    "class_names = ['Korean', 'English', 'Math']\n",
    "interested_data = ['sum', 'mean', 'M', 'M_idx']\n",
    "\n",
    "n_classes = len(class_names)\n",
    "        \n",
    "stat = dict()\n",
    "\n",
    "st = time.time()\n",
    "for idx, cls in enumerate(class_names):\n",
    "    meta = dict()\n",
    "    M, M_idx = -1, 0\n",
    "    sum_ = 0\n",
    "    \n",
    "    for stu in range(len(scores)):\n",
    "        score_stu = scores[stu][idx]\n",
    "        sum_ += score_stu\n",
    "        \n",
    "        if M < score_stu:\n",
    "            M = score_stu\n",
    "            M_idx = stu\n",
    "            \n",
    "    meta[interested_data[0]] = sum_\n",
    "    meta[interested_data[1]] = sum_/len(scores)\n",
    "    meta[interested_data[2]] = M\n",
    "    meta[interested_data[3]] = M_idx\n",
    "    \n",
    "    stat[cls] = meta\n",
    "    \n",
    "et = time.time()\n",
    "\n",
    "print(et-st)"
   ]
  },
  {
   "cell_type": "code",
   "execution_count": 30,
   "metadata": {
    "scrolled": true
   },
   "outputs": [
    {
     "data": {
      "text/plain": [
       "{'Korean': {'sum': 100, 'mean': 25.0, 'M': 40, 'M_idx': 3},\n",
       " 'English': {'sum': 125, 'mean': 31.25, 'M': 45, 'M_idx': 1},\n",
       " 'Math': {'sum': 140, 'mean': 35.0, 'M': 50, 'M_idx': 3}}"
      ]
     },
     "execution_count": 30,
     "metadata": {},
     "output_type": "execute_result"
    }
   ],
   "source": [
    "stat"
   ]
  },
  {
   "cell_type": "markdown",
   "metadata": {},
   "source": [
    "## Exercise.2 - 43: Score Meta Data Dictionary(2)\n",
    "여러 과목이 있을 때, 각 과목들은 합, 평균, 최고점, 최고점의 idx를 가질 수 있습니다. <br>\n",
    "각 과목이 key, value는 dict로 이루어진 meta data로 이루어진 dict를 만들어봅니다."
   ]
  },
  {
   "cell_type": "code",
   "execution_count": 71,
   "metadata": {},
   "outputs": [
    {
     "name": "stdout",
     "output_type": "stream",
     "text": [
      "0.00022983551025390625\n"
     ]
    },
    {
     "data": {
      "text/plain": [
       "{'Korean': {'sum': 100, 'mean': 25.0, 'M': 40, 'M_idx': 3},\n",
       " 'English': {'sum': 125, 'mean': 31.25, 'M': 45, 'M_idx': 1},\n",
       " 'Math': {'sum': 140, 'mean': 35.0, 'M': 50, 'M_idx': 3}}"
      ]
     },
     "execution_count": 71,
     "metadata": {},
     "output_type": "execute_result"
    }
   ],
   "source": [
    "scores = [[10, 15, 30],\n",
    "          [20, 45, 20],\n",
    "          [30, 35, 40],\n",
    "          [40, 30, 50]]\n",
    "\n",
    "# problem setting\n",
    "class_names = ['Korean', 'English', 'Math']\n",
    "interested_data = ['sum', 'mean', 'M', 'M_idx']\n",
    "\n",
    "n_stud = len(scores)\n",
    "n_clas = len(class_names)\n",
    "\n",
    "st = time.time()\n",
    "# subject : values\n",
    "meta = dict()\n",
    "for cls in class_names:\n",
    "    meta[cls] = dict()\n",
    "    for name in interested_data:\n",
    "        meta[cls][name] = 0\n",
    "\n",
    "# get data\n",
    "for s_idx, s_val in enumerate(scores):\n",
    "    \n",
    "    for c_idx, c_val in enumerate(s_val):\n",
    "        \n",
    "        meta_ = meta[class_names[c_idx]]\n",
    "        meta_['sum'] += c_val\n",
    "        \n",
    "        if c_val > meta_['M']:\n",
    "            meta_['M'] = c_val\n",
    "            meta_['M_idx'] = s_idx\n",
    "            \n",
    "for c_idx, c_val in enumerate(class_names):\n",
    "    meta[c_val]['mean'] = meta[c_val]['sum']/n_stud\n",
    "\n",
    "et = time.time()\n",
    "\n",
    "print(et-st)\n",
    "\n",
    "meta"
   ]
  }
 ],
 "metadata": {
  "kernelspec": {
   "display_name": "Python 3",
   "language": "python",
   "name": "python3"
  },
  "language_info": {
   "codemirror_mode": {
    "name": "ipython",
    "version": 3
   },
   "file_extension": ".py",
   "mimetype": "text/x-python",
   "name": "python",
   "nbconvert_exporter": "python",
   "pygments_lexer": "ipython3",
   "version": "3.7.4"
  },
  "latex_envs": {
   "LaTeX_envs_menu_present": true,
   "autoclose": false,
   "autocomplete": true,
   "bibliofile": "biblio.bib",
   "cite_by": "apalike",
   "current_citInitial": 1,
   "eqLabelWithNumbers": true,
   "eqNumInitial": 1,
   "hotkeys": {
    "equation": "Ctrl-E",
    "itemize": "Ctrl-I"
   },
   "labels_anchors": false,
   "latex_user_defs": false,
   "report_style_numbering": false,
   "user_envs_cfg": false
  },
  "toc": {
   "base_numbering": 1,
   "nav_menu": {},
   "number_sections": true,
   "sideBar": true,
   "skip_h1_title": false,
   "title_cell": "Table of Contents",
   "title_sidebar": "Contents",
   "toc_cell": false,
   "toc_position": {},
   "toc_section_display": true,
   "toc_window_display": false
  }
 },
 "nbformat": 4,
 "nbformat_minor": 4
}
