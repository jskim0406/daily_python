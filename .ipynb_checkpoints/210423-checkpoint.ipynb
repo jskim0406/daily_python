{
 "cells": [
  {
   "cell_type": "markdown",
   "id": "202069c4",
   "metadata": {},
   "source": [
    "## Exercise.2 - 42: Score Meta Data Dictionary\n",
    "dict가 가장 많이 사용되는 경우 중 하나는 meta data를 만들 때입니다. <br>\n",
    "수학 점수들에 대해 평균, 분산, 표준편차를 가지고 있는 meta data를 dict로 만들어봅니다."
   ]
  },
  {
   "cell_type": "code",
   "execution_count": 13,
   "id": "70599536",
   "metadata": {},
   "outputs": [
    {
     "name": "stdout",
     "output_type": "stream",
     "text": [
      "mean : 57.86, var : 641.84, std : 25.33\n"
     ]
    }
   ],
   "source": [
    "scores = [50, 30, 90, 70, 30, 95, 40]\n",
    "\n",
    "n_students = len(scores)\n",
    "sum_all = sum(scores)\n",
    "\n",
    "score_dict = dict()\n",
    "\n",
    "score_dict['mean'] = sum_all / n_students\n",
    "score_dict['variance'] = sum([(score - mean)**2 for score in scores]) / n_students\n",
    "score_dict['std'] = variance**(1/2)\n",
    "\n",
    "template = \"mean : {:.2f}, var : {:.2f}, std : {:.2f}\"\n",
    "\n",
    "print(template.format(score_dict['mean'],\n",
    "                      score_dict['variance'], \n",
    "                      score_dict['std']))"
   ]
  }
 ],
 "metadata": {
  "kernelspec": {
   "display_name": "Python 3",
   "language": "python",
   "name": "python3"
  },
  "language_info": {
   "codemirror_mode": {
    "name": "ipython",
    "version": 3
   },
   "file_extension": ".py",
   "mimetype": "text/x-python",
   "name": "python",
   "nbconvert_exporter": "python",
   "pygments_lexer": "ipython3",
   "version": "3.7.4"
  },
  "latex_envs": {
   "LaTeX_envs_menu_present": true,
   "autoclose": false,
   "autocomplete": true,
   "bibliofile": "biblio.bib",
   "cite_by": "apalike",
   "current_citInitial": 1,
   "eqLabelWithNumbers": true,
   "eqNumInitial": 1,
   "hotkeys": {
    "equation": "Ctrl-E",
    "itemize": "Ctrl-I"
   },
   "labels_anchors": false,
   "latex_user_defs": false,
   "report_style_numbering": false,
   "user_envs_cfg": false
  },
  "toc": {
   "base_numbering": 1,
   "nav_menu": {},
   "number_sections": true,
   "sideBar": true,
   "skip_h1_title": false,
   "title_cell": "Table of Contents",
   "title_sidebar": "Contents",
   "toc_cell": false,
   "toc_position": {},
   "toc_section_display": true,
   "toc_window_display": false
  }
 },
 "nbformat": 4,
 "nbformat_minor": 5
}
