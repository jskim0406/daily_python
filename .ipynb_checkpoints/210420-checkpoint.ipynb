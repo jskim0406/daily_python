{
 "cells": [
  {
   "cell_type": "markdown",
   "metadata": {},
   "source": [
    "## Exercise.2 - 37: Dict로 글자수 세기\n",
    "dict의 key에는 string도 들어갈 수 있으므로, <br>\n",
    "위와 동일한 방법으로 문자의 등장 횟수도 연산할 수 있습니다. <br>\n",
    "list로 횟수를 셌을 때와 결과를 비교해봅니다."
   ]
  },
  {
   "cell_type": "code",
   "execution_count": 1,
   "metadata": {},
   "outputs": [],
   "source": [
    "# test_string = 'aabbccdbabdagfgk'\n",
    "test_string = '%&^%*%%#$@#$%$^%@#'"
   ]
  },
  {
   "cell_type": "code",
   "execution_count": 2,
   "metadata": {},
   "outputs": [],
   "source": [
    "cnt_dict = dict()\n",
    "\n",
    "for char in test_string:\n",
    "    \n",
    "    # 초기값 설정 역할 : cnt_dict.get(char, 0)\n",
    "    cnt_dict[char] = cnt_dict.get(char, 0) + 1"
   ]
  },
  {
   "cell_type": "code",
   "execution_count": 3,
   "metadata": {},
   "outputs": [
    {
     "data": {
      "text/plain": [
       "{'%': 6, '&': 1, '^': 2, '*': 1, '#': 3, '$': 3, '@': 2}"
      ]
     },
     "execution_count": 3,
     "metadata": {},
     "output_type": "execute_result"
    }
   ],
   "source": [
    "cnt_dict"
   ]
  },
  {
   "cell_type": "markdown",
   "metadata": {},
   "source": [
    "## Exercise.2 - 38: One-hot Encoding(2)\n",
    "Exercise.2 - 20에서 만든 one-hot encoding 방식은 n개의 class에 대하여 대응하지 못한다는 단점이 있습니다.\n",
    "이를 해결하기 위해 dict를 사용하여 one-hot encoding을 진행해봅니다."
   ]
  },
  {
   "cell_type": "code",
   "execution_count": 9,
   "metadata": {},
   "outputs": [],
   "source": [
    "import numpy as np"
   ]
  },
  {
   "cell_type": "code",
   "execution_count": 28,
   "metadata": {},
   "outputs": [],
   "source": [
    "labels = ['dog', 'cat', 'dolphin', 'tiger', 'dog', 'cat', 'cow']\n",
    "\n",
    "# class name => class idx mapping\n",
    "one_hot_enc_dict = {'dog':0, 'cat':1, 'tiger':2, 'dolphin':3, 'rabbit':4, 'cow':5}\n",
    "\n",
    "n_classes = len(one_hot_enc_dict)\n",
    "\n",
    "one_hots = []\n",
    "\n",
    "for label in labels:\n",
    "    vector = np.zeros(n_classes)\n",
    "    vector[one_hot_enc_dict[label]]+=1\n",
    "    one_hots.append(vector)"
   ]
  },
  {
   "cell_type": "code",
   "execution_count": 29,
   "metadata": {},
   "outputs": [
    {
     "data": {
      "text/plain": [
       "[array([1., 0., 0., 0., 0., 0.]),\n",
       " array([0., 1., 0., 0., 0., 0.]),\n",
       " array([0., 0., 0., 1., 0., 0.]),\n",
       " array([0., 0., 1., 0., 0., 0.]),\n",
       " array([1., 0., 0., 0., 0., 0.]),\n",
       " array([0., 1., 0., 0., 0., 0.]),\n",
       " array([0., 0., 0., 0., 0., 1.])]"
      ]
     },
     "execution_count": 29,
     "metadata": {},
     "output_type": "execute_result"
    }
   ],
   "source": [
    "one_hots"
   ]
  }
 ],
 "metadata": {
  "kernelspec": {
   "display_name": "Python 3",
   "language": "python",
   "name": "python3"
  },
  "language_info": {
   "codemirror_mode": {
    "name": "ipython",
    "version": 3
   },
   "file_extension": ".py",
   "mimetype": "text/x-python",
   "name": "python",
   "nbconvert_exporter": "python",
   "pygments_lexer": "ipython3",
   "version": "3.7.4"
  },
  "latex_envs": {
   "LaTeX_envs_menu_present": true,
   "autoclose": false,
   "autocomplete": true,
   "bibliofile": "biblio.bib",
   "cite_by": "apalike",
   "current_citInitial": 1,
   "eqLabelWithNumbers": true,
   "eqNumInitial": 1,
   "hotkeys": {
    "equation": "Ctrl-E",
    "itemize": "Ctrl-I"
   },
   "labels_anchors": false,
   "latex_user_defs": false,
   "report_style_numbering": false,
   "user_envs_cfg": false
  },
  "toc": {
   "base_numbering": 1,
   "nav_menu": {},
   "number_sections": true,
   "sideBar": true,
   "skip_h1_title": false,
   "title_cell": "Table of Contents",
   "title_sidebar": "Contents",
   "toc_cell": false,
   "toc_position": {},
   "toc_section_display": true,
   "toc_window_display": false
  }
 },
 "nbformat": 4,
 "nbformat_minor": 4
}
