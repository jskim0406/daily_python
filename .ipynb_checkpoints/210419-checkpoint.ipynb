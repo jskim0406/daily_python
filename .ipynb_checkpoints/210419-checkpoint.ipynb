{
 "cells": [
  {
   "cell_type": "markdown",
   "metadata": {},
   "source": [
    "## Exercise.2 - 25: Top-5 Accuracy\n",
    "Classification task에서 정확한 label을 예측하지 못했더라도, <br>\n",
    "유의미한 예측일 때 측정하는 top-5 accuracy를 구해봅니다.<br>\n"
   ]
  },
  {
   "cell_type": "markdown",
   "metadata": {},
   "source": [
    "### 예시 코드"
   ]
  },
  {
   "cell_type": "code",
   "execution_count": 1,
   "metadata": {},
   "outputs": [
    {
     "name": "stdout",
     "output_type": "stream",
     "text": [
      "Top-5 precition and label [0, 1, 2, 3, 4] 10\n",
      "-> Not correct\n",
      "0.02808403968811035\n"
     ]
    }
   ],
   "source": [
    "# make random prediction\n",
    "import time\n",
    "import numpy as np\n",
    "\n",
    "st = time.time()\n",
    "prediction = np.random.randint(1,10, size=10000)\n",
    "label = 10\n",
    "\n",
    "# calculate the required n_ data\n",
    "n_class = len(prediction)\n",
    "\n",
    "# transform the predictions into probabilities\n",
    "pred_sum = 0\n",
    "for pred in prediction:\n",
    "    pred_sum += pred\n",
    "for pred_idx, pred in enumerate(prediction):\n",
    "    prediction[pred_idx] = pred/pred_sum\n",
    "    \n",
    "sorted_predictions = list()\n",
    "sorted_prediction_indices = list()\n",
    "# iterate 5 times for getting 5 maximum indices\n",
    "for _ in range(5):\n",
    "    M, M_idx = None, 0\n",
    "    \n",
    "    for pred_idx, pred in enumerate(prediction):\n",
    "        if pred_idx in sorted_prediction_indices:\n",
    "            pass\n",
    "        elif M == None or pred > M:\n",
    "            M = pred\n",
    "            M_idx = pred_idx\n",
    "    \n",
    "    sorted_predictions.append(M)\n",
    "    sorted_prediction_indices.append(M_idx)\n",
    "    \n",
    "print(\"Top-5 precition and label\", sorted_prediction_indices, label)\n",
    "if label in sorted_prediction_indices:\n",
    "    print(\"-> Correct\")\n",
    "else:\n",
    "    print(\"-> Not correct\")\n",
    "    \n",
    "et = time.time()\n",
    "\n",
    "print(et-st)"
   ]
  },
  {
   "cell_type": "markdown",
   "metadata": {},
   "source": [
    "### 내 코드"
   ]
  },
  {
   "cell_type": "markdown",
   "metadata": {},
   "source": [
    "#### 오답\n",
    "- 시간 소요가 너무 큼\n",
    "- 나름 pythonic 하게 sorted 도 쓰고, list-comprehension도 썻다고 생각해 빠를 줄 알았는 데 아니었음"
   ]
  },
  {
   "cell_type": "code",
   "execution_count": 2,
   "metadata": {},
   "outputs": [
    {
     "name": "stdout",
     "output_type": "stream",
     "text": [
      "pred_top5 class : [33, 38, 87, 131, 205]\n",
      "ground truth label : 0\n",
      "result : wrong in top-5 range\n",
      "14.133874654769897\n"
     ]
    }
   ],
   "source": [
    "# make random prediction\n",
    "import time\n",
    "import numpy as np\n",
    "\n",
    "st = time.time()\n",
    "prediction = np.random.randint(1,100, size=10000)\n",
    "label = 10\n",
    "\n",
    "# pred vector -> probability vector\n",
    "prob_vec = [i / sum(prediction) for i in prediction]\n",
    "\n",
    "# create [(class, prob), (class, prob), ...]\n",
    "class_prob = [(cls, prob) for cls, prob in enumerate(prob_vec)]\n",
    "\n",
    "# sort 'class_prob'\n",
    "class_prob = sorted(class_prob, key=lambda x: x[1], reverse=True)\n",
    "\n",
    "# is truth label in top 5 pred class?\n",
    "pred_top5 = [class_prob[i][0] for i in range(5)]\n",
    "\n",
    "def check_top5(label):\n",
    "    if label in pred_top5:\n",
    "        print(f\"pred_top5 class : {pred_top5}\")\n",
    "        print(f\"ground truth label : {label}\")\n",
    "        print(\"result : correct! in top-5 range\")\n",
    "    else:\n",
    "        print(f\"pred_top5 class : {pred_top5}\")\n",
    "        print(f\"ground truth label : {label}\")\n",
    "        print(\"result : wrong in top-5 range\")\n",
    "    \n",
    "check_top5(0)\n",
    "et = time.time()\n",
    "\n",
    "print(et-st)"
   ]
  },
  {
   "cell_type": "markdown",
   "metadata": {},
   "source": [
    "#### correction\n",
    "```python\n",
    "구\n",
    "prob_vec = [i / sum(prediction) for i in prediction]\n",
    "\n",
    "정\n",
    "sum_prediction = sum(prediction)\n",
    "prob_vec = [i / sum_prediction for i in prediction]\n",
    "```\n",
    "\n",
    "- 예전 코드는, list-comprehension에서 1만 번 도는 동안, sum 연산이 1만 번 돌고 있었음 -> 이게 없으면, 연산 속도가 거의 1천 분의 1로 줌... 0.0001이 되는 것 "
   ]
  },
  {
   "cell_type": "code",
   "execution_count": 3,
   "metadata": {},
   "outputs": [
    {
     "name": "stdout",
     "output_type": "stream",
     "text": [
      "pred_top5 class : [57, 192, 341, 450, 470]\n",
      "ground truth label : 0\n",
      "result : wrong in top-5 range\n",
      "0.020571470260620117\n"
     ]
    }
   ],
   "source": [
    "# make random prediction\n",
    "import time\n",
    "import numpy as np\n",
    "\n",
    "st = time.time()\n",
    "prediction = np.random.randint(1,100, size=10000)\n",
    "label = 10\n",
    "\n",
    "# pred vector -> probability vector\n",
    "sum_prediction = sum(prediction)\n",
    "prob_vec = [i / sum_prediction for i in prediction]\n",
    "\n",
    "# create [(class, prob), (class, prob), ...]\n",
    "class_prob = [(cls, prob) for cls, prob in enumerate(prob_vec)]\n",
    "\n",
    "# sort 'class_prob'\n",
    "class_prob = sorted(class_prob, key=lambda x: x[1], reverse=True)\n",
    "\n",
    "# is truth label in top 5 pred class?\n",
    "pred_top5 = [class_prob[i][0] for i in range(5)]\n",
    "\n",
    "def check_top5(label):\n",
    "    if label in pred_top5:\n",
    "        print(f\"pred_top5 class : {pred_top5}\")\n",
    "        print(f\"ground truth label : {label}\")\n",
    "        print(\"result : correct! in top-5 range\")\n",
    "    else:\n",
    "        print(f\"pred_top5 class : {pred_top5}\")\n",
    "        print(f\"ground truth label : {label}\")\n",
    "        print(\"result : wrong in top-5 range\")\n",
    "    \n",
    "check_top5(0)\n",
    "et = time.time()\n",
    "\n",
    "print(et-st)"
   ]
  }
 ],
 "metadata": {
  "kernelspec": {
   "display_name": "Python 3",
   "language": "python",
   "name": "python3"
  },
  "language_info": {
   "codemirror_mode": {
    "name": "ipython",
    "version": 3
   },
   "file_extension": ".py",
   "mimetype": "text/x-python",
   "name": "python",
   "nbconvert_exporter": "python",
   "pygments_lexer": "ipython3",
   "version": "3.7.4"
  },
  "latex_envs": {
   "LaTeX_envs_menu_present": true,
   "autoclose": false,
   "autocomplete": true,
   "bibliofile": "biblio.bib",
   "cite_by": "apalike",
   "current_citInitial": 1,
   "eqLabelWithNumbers": true,
   "eqNumInitial": 1,
   "hotkeys": {
    "equation": "Ctrl-E",
    "itemize": "Ctrl-I"
   },
   "labels_anchors": false,
   "latex_user_defs": false,
   "report_style_numbering": false,
   "user_envs_cfg": false
  },
  "toc": {
   "base_numbering": 1,
   "nav_menu": {},
   "number_sections": true,
   "sideBar": true,
   "skip_h1_title": false,
   "title_cell": "Table of Contents",
   "title_sidebar": "Contents",
   "toc_cell": false,
   "toc_position": {},
   "toc_section_display": true,
   "toc_window_display": false
  }
 },
 "nbformat": 4,
 "nbformat_minor": 4
}
