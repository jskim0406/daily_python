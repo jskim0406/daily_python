{
 "cells": [
  {
   "cell_type": "markdown",
   "id": "35865563",
   "metadata": {},
   "source": [
    "## Exercise.2 - 41: 가장 많이 등장한 글자 찾기\n",
    "문자의 횟수와 최댓값을 이용하여 가장 많이 등장한 글자를 찾아봅니다."
   ]
  },
  {
   "cell_type": "code",
   "execution_count": 3,
   "id": "07584724",
   "metadata": {},
   "outputs": [
    {
     "name": "stdout",
     "output_type": "stream",
     "text": [
      "\n",
      "The Zen of Python, by Tim Peters\n",
      "\n",
      "Beautiful is better than ugly.\n",
      "Explicit is better than implicit.\n",
      "Simple is better than complex.\n",
      "Complex is better than complicated.\n",
      "Flat is better than nested.\n",
      "Sparse is better than dense.\n",
      "Readability counts.\n",
      "Special cases aren't special enough to break the rules.\n",
      "Although practicality beats purity.\n",
      "Errors should never pass silently.\n",
      "Unless explicitly silenced.\n",
      "In the face of ambiguity, refuse the temptation to guess.\n",
      "There should be one-- and preferably only one --obvious way to do it.\n",
      "Although that way may not be obvious at first unless you're Dutch.\n",
      "Now is better than never.\n",
      "Although never is often better than *right* now.\n",
      "If the implementation is hard to explain, it's a bad idea.\n",
      "If the implementation is easy to explain, it may be a good idea.\n",
      "Namespaces are one honking great idea -- let's do more of those!\n",
      "\n"
     ]
    }
   ],
   "source": [
    "import this\n",
    "\n",
    "zen_of_python = \\\n",
    "'''\n",
    "The Zen of Python, by Tim Peters\n",
    "\n",
    "Beautiful is better than ugly.\n",
    "Explicit is better than implicit.\n",
    "Simple is better than complex.\n",
    "Complex is better than complicated.\n",
    "Flat is better than nested.\n",
    "Sparse is better than dense.\n",
    "Readability counts.\n",
    "Special cases aren't special enough to break the rules.\n",
    "Although practicality beats purity.\n",
    "Errors should never pass silently.\n",
    "Unless explicitly silenced.\n",
    "In the face of ambiguity, refuse the temptation to guess.\n",
    "There should be one-- and preferably only one --obvious way to do it.\n",
    "Although that way may not be obvious at first unless you're Dutch.\n",
    "Now is better than never.\n",
    "Although never is often better than *right* now.\n",
    "If the implementation is hard to explain, it's a bad idea.\n",
    "If the implementation is easy to explain, it may be a good idea.\n",
    "Namespaces are one honking great idea -- let's do more of those!\n",
    "'''\n",
    "print(zen_of_python)"
   ]
  },
  {
   "cell_type": "markdown",
   "id": "4a919331",
   "metadata": {},
   "source": [
    "### 예시 코드"
   ]
  },
  {
   "cell_type": "code",
   "execution_count": 58,
   "id": "ff1187e3",
   "metadata": {},
   "outputs": [
    {
     "name": "stdout",
     "output_type": "stream",
     "text": [
      "e 90\n",
      "time spent 0.00034880638122558594\n"
     ]
    }
   ],
   "source": [
    "import this\n",
    "import time\n",
    "\n",
    "\n",
    "zen_of_python = \\\n",
    "'''\n",
    "The Zen of Python, by Tim Peters\n",
    "\n",
    "Beautiful is better than ugly.\n",
    "Explicit is better than implicit.\n",
    "Simple is better than complex.\n",
    "Complex is better than complicated.\n",
    "Flat is better than nested.\n",
    "Sparse is better than dense.\n",
    "Readability counts.\n",
    "Special cases aren't special enough to break the rules.\n",
    "Although practicality beats purity.\n",
    "Errors should never pass silently.\n",
    "Unless explicitly silenced.\n",
    "In the face of ambiguity, refuse the temptation to guess.\n",
    "There should be one-- and preferably only one --obvious way to do it.\n",
    "Although that way may not be obvious at first unless you're Dutch.\n",
    "Now is better than never.\n",
    "Although never is often better than *right* now.\n",
    "If the implementation is hard to explain, it's a bad idea.\n",
    "If the implementation is easy to explain, it may be a good idea.\n",
    "Namespaces are one honking great idea -- let's do more of those!\n",
    "'''\n",
    "# print(zen_of_python)\n",
    "\n",
    "st = time.time()\n",
    "\n",
    "# count the frequencies\n",
    "cnt_dict = dict()\n",
    "for char in zen_of_python:\n",
    "    cnt_dict[char] = cnt_dict.get(char, 0) + 1\n",
    "\n",
    "# calculate the most frequent character\n",
    "M_char, M_freq = None, 0\n",
    "for char, char_freq in cnt_dict.items():\n",
    "    if char_freq > M_freq and char != ' ':\n",
    "        M_freq = char_freq\n",
    "        M_char = char\n",
    "        \n",
    "et = time.time()\n",
    "\n",
    "print(M_char, M_freq)\n",
    "print(f\"time spent {et-st}\")"
   ]
  },
  {
   "cell_type": "markdown",
   "id": "3edf898b",
   "metadata": {},
   "source": [
    "## 내 코드\n",
    "\n",
    "- 시간이 더 소요됨"
   ]
  },
  {
   "cell_type": "code",
   "execution_count": 66,
   "id": "76ef511f",
   "metadata": {},
   "outputs": [
    {
     "name": "stdout",
     "output_type": "stream",
     "text": [
      "most frequent char : e\n",
      "time spent 0.000576019287109375\n"
     ]
    }
   ],
   "source": [
    "import time\n",
    "\n",
    "st = time.time()\n",
    "char_cnt = dict()\n",
    "\n",
    "# Count each character using dictionary\n",
    "for char in zen_of_python:\n",
    "    char_cnt[char] = char_cnt.get(char, 0) + 1\n",
    "    \n",
    "# Find and Count most frequent character\n",
    "lst = []\n",
    "for key, char in char_cnt.items():\n",
    "    lst.append((key,char))\n",
    "    \n",
    "lst_sorted = sorted(lst, key = lambda x: x[1], reverse=True)\n",
    "et = time.time()\n",
    "\n",
    "print(f\"most frequent char : {lst_sorted[1][0]}\")\n",
    "print(f\"time spent {et-st}\")"
   ]
  },
  {
   "cell_type": "markdown",
   "id": "a8c44bda",
   "metadata": {},
   "source": [
    "### 개선\n",
    "\n",
    "- 밑의 방법은 예시 코드의 과정을 참고해서 적은 코드\n",
    "- 항상, 최대값 최소값 찾을 때는 아래의 과정으로 갱신 로직으로 짜자.\n",
    "    - 그러면, O(n)이 가능하지만, Tim-Sort하면 O(n)에 가깝긴 하지만, nlogn 일 가능성이 높기에!"
   ]
  },
  {
   "cell_type": "code",
   "execution_count": 47,
   "id": "ab3419ab",
   "metadata": {
    "scrolled": true
   },
   "outputs": [
    {
     "name": "stdout",
     "output_type": "stream",
     "text": [
      "time spent 0.0003981590270996094\n",
      "e 90\n"
     ]
    }
   ],
   "source": [
    "import time\n",
    "\n",
    "st = time.time()\n",
    "char_cnt = dict()\n",
    "\n",
    "# Count each character using dictionary\n",
    "for char in zen_of_python:\n",
    "    char_cnt[char] = char_cnt.get(char, 0) + 1\n",
    "    \n",
    "# Find and Count most frequent character\n",
    "freq_char = None\n",
    "freq_cnt = -1\n",
    "\n",
    "for key, val in char_cnt.items():\n",
    "        \n",
    "    if val > freq_cnt and key != ' ':\n",
    "        freq_char = key\n",
    "        freq_cnt = val\n",
    "        \n",
    "et = time.time()\n",
    "\n",
    "print(f\"time spent {et-st}\")        \n",
    "print(freq_char, freq_cnt)"
   ]
  }
 ],
 "metadata": {
  "kernelspec": {
   "display_name": "Python 3",
   "language": "python",
   "name": "python3"
  },
  "language_info": {
   "codemirror_mode": {
    "name": "ipython",
    "version": 3
   },
   "file_extension": ".py",
   "mimetype": "text/x-python",
   "name": "python",
   "nbconvert_exporter": "python",
   "pygments_lexer": "ipython3",
   "version": "3.7.4"
  },
  "latex_envs": {
   "LaTeX_envs_menu_present": true,
   "autoclose": false,
   "autocomplete": true,
   "bibliofile": "biblio.bib",
   "cite_by": "apalike",
   "current_citInitial": 1,
   "eqLabelWithNumbers": true,
   "eqNumInitial": 1,
   "hotkeys": {
    "equation": "Ctrl-E",
    "itemize": "Ctrl-I"
   },
   "labels_anchors": false,
   "latex_user_defs": false,
   "report_style_numbering": false,
   "user_envs_cfg": false
  },
  "toc": {
   "base_numbering": 1,
   "nav_menu": {},
   "number_sections": true,
   "sideBar": true,
   "skip_h1_title": false,
   "title_cell": "Table of Contents",
   "title_sidebar": "Contents",
   "toc_cell": false,
   "toc_position": {},
   "toc_section_display": true,
   "toc_window_display": false
  }
 },
 "nbformat": 4,
 "nbformat_minor": 5
}
