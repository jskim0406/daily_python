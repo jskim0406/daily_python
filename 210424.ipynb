{
 "cells": [
  {
   "cell_type": "markdown",
   "metadata": {},
   "source": [
    "## Exercise.2 - 43: Score Meta Data Dictionary(2)\n",
    "여러 과목이 있을 때, 각 과목들은 합, 평균, 최고점, 최고점의 idx를 가질 수 있습니다. <br>\n",
    "각 과목이 key, value는 dict로 이루어진 meta data로 이루어진 dict를 만들어봅니다."
   ]
  },
  {
   "cell_type": "code",
   "execution_count": 1,
   "metadata": {},
   "outputs": [
    {
     "data": {
      "text/plain": [
       "{'Korean': {'sum': 100, 'mean': 25.0, 'M': 40, 'M_idx': 3},\n",
       " 'English': {'sum': 125, 'mean': 31.25, 'M': 45, 'M_idx': 1},\n",
       " 'Math': {'sum': 140, 'mean': 35.0, 'M': 50, 'M_idx': 3}}"
      ]
     },
     "execution_count": 1,
     "metadata": {},
     "output_type": "execute_result"
    }
   ],
   "source": [
    "scores = [[10, 15, 30],\n",
    "          [20, 45, 20],\n",
    "          [30, 35, 40],\n",
    "          [40, 30, 50]]\n",
    "\n",
    "# problem setting\n",
    "class_names = ['Korean', 'English', 'Math']\n",
    "interested_data = ['sum', 'mean', 'M', 'M_idx']\n",
    "\n",
    "n_stud = len(scores)\n",
    "n_clas = len(class_names)\n",
    "\n",
    "# subject : values\n",
    "meta = dict()\n",
    "for cls in class_names:\n",
    "    meta[cls] = dict()\n",
    "    for name in interested_data:\n",
    "        meta[cls][name] = 0\n",
    "    \n",
    "# get data\n",
    "for s_idx, s_val in enumerate(scores):\n",
    "    \n",
    "    for c_idx, c_val in enumerate(s_val):\n",
    "        \n",
    "        meta_ = meta[class_names[c_idx]]\n",
    "        meta_['sum'] += c_val\n",
    "        \n",
    "        if c_val > meta_['M']:\n",
    "            meta_['M'] = c_val\n",
    "            meta_['M_idx'] = s_idx\n",
    "            \n",
    "for c_idx, c_val in enumerate(class_names):\n",
    "    meta[c_val]['mean'] = meta[c_val]['sum']/n_stud\n",
    "\n",
    "meta"
   ]
  }
 ],
 "metadata": {
  "kernelspec": {
   "display_name": "Python 3",
   "language": "python",
   "name": "python3"
  },
  "language_info": {
   "codemirror_mode": {
    "name": "ipython",
    "version": 3
   },
   "file_extension": ".py",
   "mimetype": "text/x-python",
   "name": "python",
   "nbconvert_exporter": "python",
   "pygments_lexer": "ipython3",
   "version": "3.8.5"
  }
 },
 "nbformat": 4,
 "nbformat_minor": 4
}
